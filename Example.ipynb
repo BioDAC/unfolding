{
 "cells": [
  {
   "cell_type": "code",
   "execution_count": 1,
   "metadata": {},
   "outputs": [],
   "source": [
    "\n",
    "import numpy as np\n",
    "\n",
    "import unfolding\n",
    "\n",
    "\n",
    "def create_dummy():\n",
    "    x, y, z = np.meshgrid(\n",
    "        np.linspace(0, 1, 100), np.linspace(0, 1, 100), np.linspace(0, 1, 100)\n",
    "    )\n",
    "\n",
    "    image = x + y + z\n",
    "\n",
    "    label = ((x - 0.5) ** 2 + (y - 0.5) ** 2 + (z - 0.5) ** 2) < 0.2**2\n",
    "\n",
    "    return image, label\n",
    "\n",
    "\n",
    "image, label = create_dummy()\n",
    "verts, faces = unfolding.create_simplified_tessellation(label)\n",
    "\n",
    "\n"
   ]
  }
 ],
 "metadata": {
  "kernelspec": {
   "display_name": "imaging",
   "language": "python",
   "name": "python3"
  },
  "language_info": {
   "codemirror_mode": {
    "name": "ipython",
    "version": 3
   },
   "file_extension": ".py",
   "mimetype": "text/x-python",
   "name": "python",
   "nbconvert_exporter": "python",
   "pygments_lexer": "ipython3",
   "version": "3.9.16"
  }
 },
 "nbformat": 4,
 "nbformat_minor": 2
}
